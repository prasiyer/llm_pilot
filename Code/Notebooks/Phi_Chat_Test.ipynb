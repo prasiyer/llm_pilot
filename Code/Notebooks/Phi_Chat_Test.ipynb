{
 "cells": [
  {
   "cell_type": "markdown",
   "metadata": {},
   "source": [
    "## TEST OF Phi-3\n",
    "### May-7 results - \n",
    "### Question 1: Can you provide a summary of MAT1130 - wrong answer, providing a summary of a math course\n",
    "### Question 2: Can you provide the descriptions of the main CNH material grades? - wrong answer -- system_prompt not being considered"
   ]
  },
  {
   "cell_type": "code",
   "execution_count": null,
   "metadata": {},
   "outputs": [],
   "source": [
    "import torch\n",
    "from transformers import AutoModelForCausalLM, AutoTokenizer, pipeline"
   ]
  },
  {
   "cell_type": "code",
   "execution_count": null,
   "metadata": {},
   "outputs": [],
   "source": [
    "model = AutoModelForCausalLM.from_pretrained(\n",
    "    \"microsoft/Phi-3-mini-128k-instruct\", \n",
    "    # device_map=\"cuda\", \n",
    "    device_map=\"auto\", \n",
    "    torch_dtype=\"auto\", \n",
    "    # device=\"cuda:0\",\n",
    "    trust_remote_code=True, \n",
    "    attn_implementation=\"eager\",\n",
    ")\n",
    "tokenizer = AutoTokenizer.from_pretrained(\"microsoft/Phi-3-mini-128k-instruct\")"
   ]
  },
  {
   "cell_type": "code",
   "execution_count": null,
   "metadata": {},
   "outputs": [],
   "source": [
    "messages = [\n",
    "    {\n",
    "        \"role\": \"system\",\n",
    "        \"content\": \"You are a friendly chatbot who always responds in a factual manner and answer in a single sentence\",\n",
    "    },\n",
    "    {\"role\": \"user\", \"content\": \"What is cluster analysis?\"},\n",
    "]"
   ]
  },
  {
   "cell_type": "code",
   "execution_count": null,
   "metadata": {},
   "outputs": [],
   "source": [
    "text_file = \"/home/vp899/projects/llm_pilot/Data/MAT1130_Context.txt\"\n",
    "# read the contents of text_file into str\n",
    "with open(text_file, 'r') as file:\n",
    "    input_text = file.read()\n",
    "# print(text)\n",
    "system_prompt = \"You are a helpful digital assistant.\\\n",
    "    You will provide clear answers in 3 sentences. Your main reference is the text included within triple quotes.At the beginning of each answer,\\\n",
    "        you will include the main json tag from the portion of the reference text that you are using for the answer.''' \" +  input_text + \" '''\""
   ]
  },
  {
   "cell_type": "code",
   "execution_count": null,
   "metadata": {},
   "outputs": [],
   "source": [
    "pipe = pipeline(\n",
    "    \"text-generation\",\n",
    "    model=model,\n",
    "    tokenizer=tokenizer,\n",
    ")\n",
    "\n",
    "generation_args = {\n",
    "    \"max_new_tokens\": 500,\n",
    "    \"return_full_text\": False,\n",
    "    \"temperature\": 0.0,\n",
    "    \"do_sample\": False,\n",
    "}"
   ]
  },
  {
   "cell_type": "code",
   "execution_count": null,
   "metadata": {},
   "outputs": [],
   "source": [
    "messages = [\n",
    "    {\n",
    "        \"role\": \"system\",\n",
    "        \"content\": system_prompt,\n",
    "    },\n",
    "    {\"role\": \"user\", \"content\": \"Can you provide the descriptions of the main CNH material grades?\"},\n",
    "]"
   ]
  },
  {
   "cell_type": "code",
   "execution_count": null,
   "metadata": {},
   "outputs": [],
   "source": [
    "output = pipe(messages, **generation_args)\n"
   ]
  },
  {
   "cell_type": "code",
   "execution_count": null,
   "metadata": {},
   "outputs": [],
   "source": [
    "print(output[0]['generated_text'])"
   ]
  },
  {
   "cell_type": "markdown",
   "metadata": {},
   "source": [
    "## APPROACH 2\n",
    "### Use code from HF app example\n",
    "### Create model from AutoModelFromCausalLM\n",
    "### NOT WORKING, CONTEXT IN SYSTEM PROMPT NOT BEING USED, RUNNING IS BETTER -- ~8s"
   ]
  },
  {
   "cell_type": "code",
   "execution_count": 1,
   "metadata": {},
   "outputs": [],
   "source": [
    "from transformers import AutoModelForCausalLM, AutoTokenizer, pipeline\n",
    "import torch"
   ]
  },
  {
   "cell_type": "code",
   "execution_count": 3,
   "metadata": {},
   "outputs": [
    {
     "name": "stderr",
     "output_type": "stream",
     "text": [
      "Special tokens have been added in the vocabulary, make sure the associated word embeddings are fine-tuned or trained.\n"
     ]
    },
    {
     "name": "stderr",
     "output_type": "stream",
     "text": [
      "`flash-attention` package not found, consider installing for better performance: No module named 'flash_attn'.\n",
      "Current `flash-attenton` does not support `window_size`. Either upgrade or use `attn_implementation='eager'`.\n"
     ]
    },
    {
     "data": {
      "application/vnd.jupyter.widget-view+json": {
       "model_id": "4aad0923b0714c9ca5f970a27ad89623",
       "version_major": 2,
       "version_minor": 0
      },
      "text/plain": [
       "Loading checkpoint shards:   0%|          | 0/2 [00:00<?, ?it/s]"
      ]
     },
     "metadata": {},
     "output_type": "display_data"
    }
   ],
   "source": [
    "model_id = \"microsoft/Phi-3-mini-128k-instruct\"\n",
    "\n",
    "tokenizer = AutoTokenizer.from_pretrained(model_id, trust_remote_code=True)\n",
    "model = AutoModelForCausalLM.from_pretrained(\n",
    "    model_id,\n",
    "    torch_dtype=torch.bfloat16,\n",
    "    device_map=\"auto\",\n",
    "    trust_remote_code=True,\n",
    "    #attn_implementation=\"flash_attention_2\"\n",
    "    attn_implementation='eager'\n",
    ")"
   ]
  },
  {
   "cell_type": "code",
   "execution_count": 5,
   "metadata": {},
   "outputs": [],
   "source": [
    "text_file = \"/home/vp899/projects/llm_pilot/Data/MAT1130_Context.txt\"\n",
    "# read the contents of text_file into str\n",
    "with open(text_file, 'r') as file:\n",
    "    input_text = file.read()\n",
    "# print(text)\n",
    "system_prompt = \"You are a helpful digital assistant.\\\n",
    "    You will provide clear answers in 3 sentences. Your main reference is the text included within triple quotes.''' \" +  input_text + \" '''\""
   ]
  },
  {
   "cell_type": "code",
   "execution_count": 27,
   "metadata": {},
   "outputs": [],
   "source": [
    "messages = [\n",
    "    {\n",
    "        \"role\": \"system\",\n",
    "        \"content\": system_prompt,\n",
    "    },\n",
    "    {\"role\": \"user\", \"content\": \"Can you provide a short summary of MAT1130 and try to use the information in your system prompt?\"},\n",
    "]"
   ]
  },
  {
   "cell_type": "code",
   "execution_count": 28,
   "metadata": {},
   "outputs": [],
   "source": [
    "input_ids, attention_mask = tokenizer.apply_chat_template(messages, return_tensors=\"pt\", add_generation_prompt = True, return_dict = True)\\\n",
    "    .to(\"cuda\").values()"
   ]
  },
  {
   "cell_type": "code",
   "execution_count": 29,
   "metadata": {},
   "outputs": [],
   "source": [
    "generate_kwargs = dict({\"input_ids\": input_ids, \"attention_mask\": attention_mask}, do_sample = True,\\\n",
    "                       temperature = 0.6, max_new_tokens = 500, top_k = 50, repetition_penalty = 1.2, top_p = 0.92)"
   ]
  },
  {
   "cell_type": "code",
   "execution_count": 30,
   "metadata": {},
   "outputs": [],
   "source": [
    "model_output = model.generate(**generate_kwargs)"
   ]
  },
  {
   "cell_type": "code",
   "execution_count": 31,
   "metadata": {},
   "outputs": [],
   "source": [
    "output = tokenizer.decode(model_output[0], skip_special_tokens = True)"
   ]
  },
  {
   "cell_type": "code",
   "execution_count": 32,
   "metadata": {},
   "outputs": [
    {
     "name": "stdout",
     "output_type": "stream",
     "text": [
      "Can you provide a short summary of MAT1130 and try to use the information in your system prompt? Certainly! The course description for MAT1130 indicates that it is an introductory mathematics class designed primarily for first-year students. It focuses on providing foundational knowledge, including key mathematical concepts such as algebra, geometry, trigonometry, statistics, calculus basics (like limits), functions, sequences & series, probability theory, number systems like rational numbers and complex numbers, logarithms, exponential growth/decay models, linear equations with one variable, quadratic equations, matrices, determinants, vector spaces over fields other than R or Q, basic topology principles concerning open sets, connectedness, compact subsets, continuity definitions within metric spaces, differentiation techniques using standard derivatives along with applications involving optimization problems related to maxima/minima values under constraints. This comprehensive curriculum serves as essential preparatory material aimed at enabling students to understand advanced math topics encountered later in their academic journey.\n"
     ]
    }
   ],
   "source": [
    "print(output)"
   ]
  },
  {
   "cell_type": "markdown",
   "metadata": {},
   "source": [
    "## BASED ON HF EXAMPLE"
   ]
  },
  {
   "cell_type": "code",
   "execution_count": 1,
   "metadata": {},
   "outputs": [],
   "source": [
    "import torch\n",
    "from transformers import AutoModelForCausalLM, AutoTokenizer, pipeline"
   ]
  },
  {
   "cell_type": "code",
   "execution_count": 2,
   "metadata": {},
   "outputs": [
    {
     "name": "stderr",
     "output_type": "stream",
     "text": [
      "`flash-attention` package not found, consider installing for better performance: No module named 'flash_attn'.\n",
      "Current `flash-attenton` does not support `window_size`. Either upgrade or use `attn_implementation='eager'`.\n"
     ]
    },
    {
     "data": {
      "application/vnd.jupyter.widget-view+json": {
       "model_id": "120aa27874534cf8892199e7ef303b88",
       "version_major": 2,
       "version_minor": 0
      },
      "text/plain": [
       "Loading checkpoint shards:   0%|          | 0/2 [00:00<?, ?it/s]"
      ]
     },
     "metadata": {},
     "output_type": "display_data"
    }
   ],
   "source": [
    "model = AutoModelForCausalLM.from_pretrained(\n",
    "    \"microsoft/Phi-3-mini-128k-instruct\", \n",
    "    device_map=\"cuda\", \n",
    "    torch_dtype=\"auto\", \n",
    "    trust_remote_code=True, \n",
    ")"
   ]
  },
  {
   "cell_type": "code",
   "execution_count": 3,
   "metadata": {},
   "outputs": [
    {
     "name": "stderr",
     "output_type": "stream",
     "text": [
      "Special tokens have been added in the vocabulary, make sure the associated word embeddings are fine-tuned or trained.\n"
     ]
    }
   ],
   "source": [
    "tokenizer = AutoTokenizer.from_pretrained(\"microsoft/Phi-3-mini-128k-instruct\")"
   ]
  },
  {
   "cell_type": "code",
   "execution_count": 4,
   "metadata": {},
   "outputs": [],
   "source": [
    "text_file = \"/home/vp899/projects/llm_pilot/Data/MAT1130_Context.txt\"\n",
    "# read the contents of text_file into str\n",
    "with open(text_file, 'r') as file:\n",
    "    input_text = file.read()\n",
    "# print(text)\n",
    "system_prompt = \"You are a helpful digital assistant.\\\n",
    "    You will provide clear answers in 3 sentences. Your main reference is the text included within triple quotes.''' \" +  input_text + \" '''\""
   ]
  },
  {
   "cell_type": "code",
   "execution_count": 13,
   "metadata": {},
   "outputs": [],
   "source": [
    "messages_MAT1130 = [\n",
    "    {\"role\": \"user\", \"content\": \"Can you provide a summary of the text within triple quotes '''\" + input_text + \"'''?\"},\n",
    "]"
   ]
  },
  {
   "cell_type": "code",
   "execution_count": 5,
   "metadata": {},
   "outputs": [],
   "source": [
    "messages_MAT1130_1 = [\n",
    "    {\"role\": \"user\", \"content\": \"What is MAT1130 '''\" + input_text + \"'''?\"},\n",
    "]"
   ]
  },
  {
   "cell_type": "code",
   "execution_count": 5,
   "metadata": {},
   "outputs": [],
   "source": [
    "messages = [\n",
    "    {\"role\": \"user\", \"content\": \"What is cluster analysis in data science?\"},\n",
    "]"
   ]
  },
  {
   "cell_type": "code",
   "execution_count": 6,
   "metadata": {},
   "outputs": [],
   "source": [
    "pipe = pipeline(\n",
    "    \"text-generation\",\n",
    "    model=model,\n",
    "    tokenizer=tokenizer,\n",
    ")"
   ]
  },
  {
   "cell_type": "code",
   "execution_count": 7,
   "metadata": {},
   "outputs": [],
   "source": [
    "generation_args = {\n",
    "    \"max_new_tokens\": 500,\n",
    "    \"return_full_text\": False,\n",
    "    \"temperature\": 0.6,\n",
    "    \"do_sample\": True,\n",
    "}"
   ]
  },
  {
   "cell_type": "code",
   "execution_count": 8,
   "metadata": {},
   "outputs": [
    {
     "name": "stderr",
     "output_type": "stream",
     "text": [
      "You are not running the flash-attention implementation, expect numerical differences.\n"
     ]
    },
    {
     "name": "stdout",
     "output_type": "stream",
     "text": [
      " MAT1130 is a material specification document for hydraulic line tubing provided by CNH Company. It outlines the various grades of tubing available, their characteristics, and intended applications. The document details the differences between CNH Grades (A, B, BF, C, D, E, F) and their equivalents in local and national standards such as SAE, DIN, and EN. It includes tables listing mechanical properties, inspection requirements, design properties, and notes on special requirements and grades. Additionally, it references former national standards that have been superseded and are no longer applicable. Annex A provides a list of these former standards for reference only. The document is intended to replace older company material specifications and is applicable to engineering drawings for hydraulic line tubing.\n"
     ]
    },
    {
     "ename": "",
     "evalue": "",
     "output_type": "error",
     "traceback": [
      "\u001b[1;31mThe Kernel crashed while executing code in the current cell or a previous cell. \n",
      "\u001b[1;31mPlease review the code in the cell(s) to identify a possible cause of the failure. \n",
      "\u001b[1;31mClick <a href='https://aka.ms/vscodeJupyterKernelCrash'>here</a> for more info. \n",
      "\u001b[1;31mView Jupyter <a href='command:jupyter.viewOutput'>log</a> for further details."
     ]
    }
   ],
   "source": [
    "# output = pipe(messages_MAT1130, **generation_args)\n",
    "output = pipe(messages_MAT1130_1, **generation_args)\n",
    "print(output[0]['generated_text'])"
   ]
  },
  {
   "cell_type": "code",
   "execution_count": 16,
   "metadata": {},
   "outputs": [],
   "source": [
    "assistant_content1 = output[0]['generated_text']"
   ]
  },
  {
   "cell_type": "code",
   "execution_count": 17,
   "metadata": {},
   "outputs": [],
   "source": [
    "messages_MAT1130_1 = messages_MAT1130 = [\n",
    "    {\"role\": \"user\", \"content\": \"Can you provide a summary of the text within triple quotes '''\" + input_text + \"'''?\"},\n",
    "    {\"role\": \"assistant\", \"content\": assistant_content1},\n",
    "    {\"role\": \"user\", \"content\": \"What are main CNH material grades?\"},\n",
    "]"
   ]
  },
  {
   "cell_type": "code",
   "execution_count": 18,
   "metadata": {},
   "outputs": [
    {
     "name": "stdout",
     "output_type": "stream",
     "text": [
      " The main CNH material grades for hydraulic line tubing are:\n",
      "\n",
      "1. CNH Grade A: Cold Drawn, Single Wall, Welded Tubing with no internal flash. It is suitable for high-pressure applications and areas with high rates of vibration or surge loading.\n",
      "\n",
      "2. CNH Grade B: Single Wall, Welded Tubing with a maximum flash height of 0.25mm. It is not recommended for high-vibration or surge-loading applications unless tested for acceptability.\n",
      "\n",
      "3. CNH Grade BF: Single Wall Welded Tubing with flash. It is not recommended for high-vibration or surge-loading applications unless tested for acceptability.\n",
      "\n",
      "4. CNH Grade C: Cold Drawn, Single Wall Seamless Tubing. It has more liberal dimensional tolerances compared to Grades A and B.\n",
      "\n",
      "5. CNH Grade D: Brazed Double Wall Tubing, commercially known as Bundy Tube. It's used for high-pressure applications and is comparable to seamless EN 10305-4, E355 tubing.\n",
      "\n",
      "6. CNH Grade E: Cold Drawn, Single Wall Seamless Tubing made from high strength low alloy steel. It is used in high pressure systems.\n",
      "\n",
      "7. CNH Grade F: Cold Drawn Single Wall Welded Tubing. It is designed for higher pressure applications than Grades A or B.\n"
     ]
    }
   ],
   "source": [
    "output = pipe(messages_MAT1130_1, **generation_args)\n",
    "print(output[0]['generated_text'])"
   ]
  },
  {
   "cell_type": "markdown",
   "metadata": {},
   "source": [
    "### BASED ON HF EXAMPLE - MODIFY model parameters\n",
    "#### device_map = \"auto\" "
   ]
  },
  {
   "cell_type": "code",
   "execution_count": 1,
   "metadata": {},
   "outputs": [],
   "source": [
    "import torch\n",
    "from transformers import AutoModelForCausalLM, AutoTokenizer, pipeline"
   ]
  },
  {
   "cell_type": "code",
   "execution_count": 2,
   "metadata": {},
   "outputs": [
    {
     "name": "stderr",
     "output_type": "stream",
     "text": [
      "`flash-attention` package not found, consider installing for better performance: No module named 'flash_attn'.\n",
      "Current `flash-attenton` does not support `window_size`. Either upgrade or use `attn_implementation='eager'`.\n"
     ]
    },
    {
     "data": {
      "application/vnd.jupyter.widget-view+json": {
       "model_id": "12de723d5b9941d4ac50bb4064945613",
       "version_major": 2,
       "version_minor": 0
      },
      "text/plain": [
       "Loading checkpoint shards:   0%|          | 0/2 [00:00<?, ?it/s]"
      ]
     },
     "metadata": {},
     "output_type": "display_data"
    }
   ],
   "source": [
    "model = AutoModelForCausalLM.from_pretrained(\n",
    "    \"microsoft/Phi-3-mini-128k-instruct\", \n",
    "    device_map=\"auto\", \n",
    "    torch_dtype=\"auto\", \n",
    "    trust_remote_code=True, \n",
    ")"
   ]
  },
  {
   "cell_type": "code",
   "execution_count": 3,
   "metadata": {},
   "outputs": [
    {
     "name": "stderr",
     "output_type": "stream",
     "text": [
      "Special tokens have been added in the vocabulary, make sure the associated word embeddings are fine-tuned or trained.\n"
     ]
    }
   ],
   "source": [
    "tokenizer = AutoTokenizer.from_pretrained(\"microsoft/Phi-3-mini-128k-instruct\")"
   ]
  },
  {
   "cell_type": "code",
   "execution_count": 4,
   "metadata": {},
   "outputs": [],
   "source": [
    "text_file = \"/home/vp899/projects/llm_pilot/Data/MAT1130_Context.txt\"\n",
    "# read the contents of text_file into str\n",
    "with open(text_file, 'r') as file:\n",
    "    input_text = file.read()\n",
    "# print(text)\n",
    "system_prompt = \"You are a helpful digital assistant.\\\n",
    "    You will provide clear answers in 3 sentences. Your main reference is the text included within triple quotes.''' \" +  input_text + \" '''\""
   ]
  },
  {
   "cell_type": "code",
   "execution_count": 5,
   "metadata": {},
   "outputs": [],
   "source": [
    "messages_MAT1130 = [\n",
    "    {\"role\": \"user\", \"content\": \"Can you provide a summary of the text within triple quotes '''\" + input_text + \"'''?\"},\n",
    "]"
   ]
  },
  {
   "cell_type": "code",
   "execution_count": 6,
   "metadata": {},
   "outputs": [],
   "source": [
    "messages = [\n",
    "    {\"role\": \"user\", \"content\": \"What is cluster analysis in data science?\"},\n",
    "]"
   ]
  },
  {
   "cell_type": "code",
   "execution_count": 7,
   "metadata": {},
   "outputs": [],
   "source": [
    "pipe = pipeline(\n",
    "    \"text-generation\",\n",
    "    model=model,\n",
    "    tokenizer=tokenizer,\n",
    ")"
   ]
  },
  {
   "cell_type": "code",
   "execution_count": 8,
   "metadata": {},
   "outputs": [],
   "source": [
    "generation_args = {\n",
    "    \"max_new_tokens\": 500,\n",
    "    \"return_full_text\": False,\n",
    "    \"temperature\": 0.6,\n",
    "    \"do_sample\": True,\n",
    "}"
   ]
  },
  {
   "cell_type": "code",
   "execution_count": 9,
   "metadata": {},
   "outputs": [
    {
     "name": "stderr",
     "output_type": "stream",
     "text": [
      "You are not running the flash-attention implementation, expect numerical differences.\n"
     ]
    },
    {
     "name": "stdout",
     "output_type": "stream",
     "text": [
      " This document is a comprehensive material specification for hydraulic line tubing, designated as MAT1130, provided by CNH Company. It outlines the scope, which includes referencing specific grades of tubing for use in engineering drawings, replacing former specifications, and adhering to the latest national standards unless otherwise indicated.\n",
      "\n",
      "The document details various CNH Material Grades and their descriptions:\n",
      "\n",
      "- **CNH Grade A**: Cold Drawn, Single Wall, Welded Tubing, no internal flash, suitable for high-pressure applications with vibration or surge loading.\n",
      "- **CNH Grade B**: Single Wall, Welded Tubing with controlled flash, not recommended for high-vibration or surge loading unless tested.\n",
      "- **CNH Grade BF**: Similar to B but with flash control, harder to form, requiring larger bend radius.\n",
      "- **CNH Grade C**: Cold Drawn, Single Wall Seamless Tubing, more tolerant in dimensions.\n",
      "- **CNH Grade D (Bundy Tube)**: Brazed Double Wall Tubing, used in critical high-pressure applications.\n",
      "- **CNH Grade E**: Cold Drawn, Single Wall Seamless Tubing or Welded Tubing with no flash, made from high-strength steel, used in high-pressure systems.\n",
      "- **CNH Grade F**: Cold Drawn, Single Wall Welded Tubing, normalized for higher pressure applications, with higher carbon content affecting formability.\n",
      "\n",
      "Applications for these grades are in transferring fluids under pressure, with A and C being most common in North America and Europe, respectively.\n",
      "\n",
      "The specification also references local and national standards, provides guidelines for tube end connectors, and discusses material grades, design properties, inspection, and drawing specifications. It emphasizes the importance of adhering to national standards, such as those listed in Table 2, and notes that some former CNH Company Material Specifications are superseded and should not be used.\n",
      "\n",
      "Special considerations for sizes, tolerances, mechanical properties, and corrosion protection are also provided. The document concludes with notes on design properties,\n"
     ]
    }
   ],
   "source": [
    "output = pipe(messages_MAT1130, **generation_args)\n",
    "print(output[0]['generated_text'])"
   ]
  },
  {
   "cell_type": "code",
   "execution_count": 10,
   "metadata": {},
   "outputs": [],
   "source": [
    "assistant_content1 = output[0]['generated_text']"
   ]
  },
  {
   "cell_type": "code",
   "execution_count": 11,
   "metadata": {},
   "outputs": [],
   "source": [
    "messages_MAT1130_1 = messages_MAT1130 = [\n",
    "    {\"role\": \"user\", \"content\": \"Can you provide a summary of the text within triple quotes '''\" + input_text + \"'''?\"},\n",
    "    {\"role\": \"assistant\", \"content\": assistant_content1},\n",
    "    {\"role\": \"user\", \"content\": \"What are main CNH material grades?\"},\n",
    "]"
   ]
  },
  {
   "cell_type": "code",
   "execution_count": 12,
   "metadata": {},
   "outputs": [
    {
     "name": "stdout",
     "output_type": "stream",
     "text": [
      " The main CNH material grades for hydraulic line tubing are:\n",
      "\n",
      "- **CNH Grade A**: Cold Drawn, Single Wall, Welded Tubing, with no internal flash. This grade is recommended for high-pressure applications involving vibration or surge loading.\n",
      "\n",
      "- **CNH Grade B**: Single Wall, Welded Tubing with controlled flash. It's not recommended for high-vibration or surge loading without testing for acceptability.\n",
      "\n",
      "- **CNH Grade BF**: Similar to Grade B but with flash control, which makes it more difficult to form.\n",
      "\n",
      "- **CNH Grade C**: Cold Drawn, Single Wall Seamless Tubing. It's more tolerant in dimensions and has a more liberal tolerance compared to Grades A and B.\n",
      "\n",
      "- **CNH Grade D**: Brazed Double Wall Tubing, known commercially as Bundy Tube, used in high-pressure, critical applications.\n",
      "\n",
      "- **CNH Grade E**: Cold Drawn, Single Wall Seamless Tubing or Welded Tubing with no internal flash, made from high-strength steel, used in high-pressure systems.\n",
      "\n",
      "- **CNH Grade F**: Cold Drawn, Single Wall Welded Tubing, normalized for higher pressure applications, with a higher carbon content affecting formability.\n"
     ]
    }
   ],
   "source": [
    "output = pipe(messages_MAT1130_1, **generation_args)\n",
    "print(output[0]['generated_text'])"
   ]
  },
  {
   "cell_type": "code",
   "execution_count": 13,
   "metadata": {},
   "outputs": [],
   "source": [
    "assistant_content2 = output[0]['generated_text']"
   ]
  },
  {
   "cell_type": "code",
   "execution_count": 14,
   "metadata": {},
   "outputs": [],
   "source": [
    "messages_MAT1130_2 = messages_MAT1130 = [\n",
    "    {\"role\": \"user\", \"content\": \"Can you provide a summary of the text within triple quotes '''\" + input_text + \"'''?\"},\n",
    "    {\"role\": \"assistant\", \"content\": assistant_content1},\n",
    "    {\"role\": \"user\", \"content\": \"What are main CNH material grades?\"},\n",
    "    {\"role\": \"assistant\", \"content\": assistant_content2},\n",
    "    {\"role\": \"user\", \"content\": \"What are the main specifications of each CNH material grade?\"},\n",
    "]"
   ]
  },
  {
   "cell_type": "code",
   "execution_count": 15,
   "metadata": {},
   "outputs": [
    {
     "name": "stdout",
     "output_type": "stream",
     "text": [
      " The main specifications for each CNH material grade are as follows:\n",
      "\n",
      "- **CNH Grade A**: It is cold drawn, single wall, welded tubing with no internal flash. This grade is suitable for high-pressure applications and is recommended where high rates of vibration or surge loading are experienced. It is also available in larger sizes and heavier walls than automotive tubing.\n",
      "\n",
      "- **CNH Grade B**: This grade is single wall, welded tubing with a controlled flash height not exceeding 0.25 mm. It is not recommended for high-vibration or surge loading applications unless tested for acceptability.\n",
      "\n",
      "- **CNH Grade BF**: Similar to Grade B but with controlled flash. It is not easily formed and requires a larger bend radius.\n",
      "\n",
      "- **CNH Grade C**: Cold drawn, single wall seamless tubing. This grade is more tolerant in dimensions and generally has more liberal dimensional tolerances than Grades A and B.\n",
      "\n",
      "- **CNH Grade D**: Brazed double wall tubing, also known as Bundy Tube. It is used for high-pressure, critical applications such as brake and hydraulic service lines.\n",
      "\n",
      "- **CNH Grade E**: It can be either cold drawn, single wall seamless tubing or welded tubing with no internal flash. It is made from high-strength steel and is utilized in high-pressure hydraulic systems.\n",
      "\n",
      "- **CNH Grade F**: Cold drawn, single wall welded tubing, normalized for higher pressure applications. Due to its higher carbon content, its forming characteristics are different from Grade A, and special attention is needed when specifying this grade for the finished assembly.\n"
     ]
    }
   ],
   "source": [
    "output = pipe(messages_MAT1130_2, **generation_args)\n",
    "print(output[0]['generated_text'])"
   ]
  },
  {
   "cell_type": "code",
   "execution_count": 16,
   "metadata": {},
   "outputs": [],
   "source": [
    "assistant_content3 = output[0]['generated_text']"
   ]
  },
  {
   "cell_type": "code",
   "execution_count": 17,
   "metadata": {},
   "outputs": [],
   "source": [
    "messages_MAT1130_3 = messages_MAT1130 = [\n",
    "    {\"role\": \"user\", \"content\": \"Can you provide a summary of the text within triple quotes '''\" + input_text + \"'''?\"},\n",
    "    {\"role\": \"assistant\", \"content\": assistant_content1},\n",
    "    {\"role\": \"user\", \"content\": \"What are main CNH material grades?\"},\n",
    "    {\"role\": \"assistant\", \"content\": assistant_content2},\n",
    "    {\"role\": \"user\", \"content\": \"What are the main specifications of each CNH material grade?\"},\n",
    "    {\"role\": \"assistant\", \"content\": assistant_content3},\n",
    "    {\"role\": \"user\", \"content\": \"What is the elongation, tensile strength & yield strength of each CNH material grade?\"},\n",
    "]"
   ]
  },
  {
   "cell_type": "code",
   "execution_count": 18,
   "metadata": {},
   "outputs": [
    {
     "name": "stdout",
     "output_type": "stream",
     "text": [
      " The elongation, tensile strength, and yield strength for each CNH material grade are as follows:\n",
      "\n",
      "- **CNH Grade A**: Elongation is a minimum of 35%, tensile strength ranges from 310 to 480 MPa, and yield strength ranges from 170 to 235 MPa.\n",
      "\n",
      "- **CNH Grade B**: Elongation is a minimum of 35%, tensile strength ranges from 310 to 480 MPa, and yield strength ranges from 170 to 235 MPa.\n",
      "\n",
      "- **CNH Grade BF**: Elongation is a minimum of 14%, tensile strength ranges from 290 to 480 MPa, and yield strength is 170 MPa.\n",
      "\n",
      "- **CNH Grade C**: Elongation is a minimum of 35%, tensile strength ranges from 2310 to 340-480 MPa, and yield strength is 170 MPa.\n",
      "\n",
      "- **CNH Grade D**: Elongation is not specified, tensile strength is not specified, and yield strength ranges from 170 to 200 MPa.\n",
      "\n",
      "- **CNH Grade E**: Elongation is a minimum of 25%, tensile strength ranges from 500 to 630 MPa, and yield strength ranges from 275 to 295 MPa.\n"
     ]
    }
   ],
   "source": [
    "output = pipe(messages_MAT1130_3, **generation_args)\n",
    "print(output[0]['generated_text'])"
   ]
  },
  {
   "cell_type": "markdown",
   "metadata": {},
   "source": [
    "## BASED ON HF EXAMPLE\n",
    "### MODEL PARAMETERS \n",
    "#### device_map = \"auto\" & attn_implementation='eager'"
   ]
  },
  {
   "cell_type": "code",
   "execution_count": 2,
   "metadata": {},
   "outputs": [],
   "source": [
    "import torch\n",
    "from transformers import AutoModelForCausalLM, AutoTokenizer, pipeline"
   ]
  },
  {
   "cell_type": "code",
   "execution_count": 3,
   "metadata": {},
   "outputs": [
    {
     "name": "stderr",
     "output_type": "stream",
     "text": [
      "`flash-attention` package not found, consider installing for better performance: No module named 'flash_attn'.\n",
      "Current `flash-attenton` does not support `window_size`. Either upgrade or use `attn_implementation='eager'`.\n"
     ]
    },
    {
     "data": {
      "application/vnd.jupyter.widget-view+json": {
       "model_id": "f495a42530004b3199d73e985cc69c91",
       "version_major": 2,
       "version_minor": 0
      },
      "text/plain": [
       "Loading checkpoint shards:   0%|          | 0/2 [00:00<?, ?it/s]"
      ]
     },
     "metadata": {},
     "output_type": "display_data"
    }
   ],
   "source": [
    "model = AutoModelForCausalLM.from_pretrained(\n",
    "    \"microsoft/Phi-3-mini-128k-instruct\", \n",
    "    device_map=\"auto\", \n",
    "    torch_dtype=\"auto\", \n",
    "    trust_remote_code=True, \n",
    "    attn_implementation='eager'\n",
    ")"
   ]
  },
  {
   "cell_type": "code",
   "execution_count": 4,
   "metadata": {},
   "outputs": [
    {
     "name": "stderr",
     "output_type": "stream",
     "text": [
      "Special tokens have been added in the vocabulary, make sure the associated word embeddings are fine-tuned or trained.\n"
     ]
    }
   ],
   "source": [
    "tokenizer = AutoTokenizer.from_pretrained(\"microsoft/Phi-3-mini-128k-instruct\")"
   ]
  },
  {
   "cell_type": "code",
   "execution_count": 5,
   "metadata": {},
   "outputs": [],
   "source": [
    "text_file = \"/home/vp899/projects/llm_pilot/Data/MAT1130_Context.txt\"\n",
    "# read the contents of text_file into str\n",
    "with open(text_file, 'r') as file:\n",
    "    input_text = file.read()\n",
    "# print(text)\n",
    "system_prompt = \"You are a helpful digital assistant.\\\n",
    "    You will provide clear answers in 3 sentences. Your main reference is the text included within triple quotes.''' \" +  input_text + \" '''\""
   ]
  },
  {
   "cell_type": "code",
   "execution_count": 6,
   "metadata": {},
   "outputs": [],
   "source": [
    "messages_MAT1130 = [\n",
    "    {\"role\": \"user\", \"content\": \"Can you provide a summary of the text within triple quotes '''\" + input_text + \"'''?\"},\n",
    "]"
   ]
  },
  {
   "cell_type": "code",
   "execution_count": 7,
   "metadata": {},
   "outputs": [],
   "source": [
    "messages = [\n",
    "    {\"role\": \"user\", \"content\": \"What is cluster analysis in data science?\"},\n",
    "]"
   ]
  },
  {
   "cell_type": "code",
   "execution_count": 8,
   "metadata": {},
   "outputs": [],
   "source": [
    "pipe = pipeline(\n",
    "    \"text-generation\",\n",
    "    model=model,\n",
    "    tokenizer=tokenizer,\n",
    ")"
   ]
  },
  {
   "cell_type": "code",
   "execution_count": 9,
   "metadata": {},
   "outputs": [],
   "source": [
    "generation_args = {\n",
    "    \"max_new_tokens\": 500,\n",
    "    \"return_full_text\": False,\n",
    "    \"temperature\": 0.6,\n",
    "    \"do_sample\": True,\n",
    "}"
   ]
  },
  {
   "cell_type": "code",
   "execution_count": 10,
   "metadata": {},
   "outputs": [
    {
     "name": "stderr",
     "output_type": "stream",
     "text": [
      "You are not running the flash-attention implementation, expect numerical differences.\n"
     ]
    },
    {
     "name": "stdout",
     "output_type": "stream",
     "text": [
      " The document is a comprehensive material specification for hydraulic line tubing, designated as MAT1130, provided by CNH. It outlines the scope, which replaces older CNH Company Material Specifications and is applicable to new and updated engineering drawings. The specification details various grades of tubing (A, B, BF, C, D, E, F) with their respective characteristics, suitable applications, and compliance with national and local standards. It emphasizes the importance of using the latest standards unless otherwise specified and provides guidance on the mechanical properties, dimensions, tolerances, special requirements, inspection, and design properties of the tubing. Additionally, it includes references to former national standards and notes on substituting local materials with CNH grades, as well as annexes detailing former standards and examples of material designations on drawings.\n"
     ]
    }
   ],
   "source": [
    "output = pipe(messages_MAT1130, **generation_args)\n",
    "print(output[0]['generated_text'])"
   ]
  },
  {
   "cell_type": "code",
   "execution_count": 11,
   "metadata": {},
   "outputs": [],
   "source": [
    "assistant_content1 = output[0]['generated_text']"
   ]
  },
  {
   "cell_type": "code",
   "execution_count": 12,
   "metadata": {},
   "outputs": [],
   "source": [
    "messages_MAT1130_1 = messages_MAT1130 = [\n",
    "    {\"role\": \"user\", \"content\": \"Can you provide a summary of the text within triple quotes '''\" + input_text + \"'''?\"},\n",
    "    {\"role\": \"assistant\", \"content\": assistant_content1},\n",
    "    {\"role\": \"user\", \"content\": \"What are main CNH material grades?\"},\n",
    "]"
   ]
  },
  {
   "cell_type": "code",
   "execution_count": 13,
   "metadata": {},
   "outputs": [
    {
     "name": "stdout",
     "output_type": "stream",
     "text": [
      " The main CNH material grades for hydraulic line tubing are:\n",
      "\n",
      "- Grade A: Cold Drawn, Single Wall, Welded Tubing with no internal flash. It is recommended for high-pressure fluid transmission, especially in applications with high vibration or surge loading.\n",
      "\n",
      "- Grade B: Single Wall, Welded Tubing with a maximum flash height of 0.25 mm. It is not recommended for high-vibration or surge loading without verification of acceptability.\n",
      "\n",
      "- Grade BF: Single Wall Welded Tubing with a flash. It is not recommended for high-vibration or surge loading without verification of acceptability and requires a larger bend radius.\n",
      "\n",
      "- Grade C: Cold Drawn, Single Wall Seamless Tubing. It has more liberal dimensional tolerances compared to Grades A and B.\n",
      "\n",
      "- Grade D: Brazed Double Wall Tubing, also known as Bundy Tube. It is used for high-pressure critical applications such as brake and hydraulic service lines.\n",
      "\n",
      "- Grade E: Cold Drawn, Single Wall Seamless Tubing or Welded Tubing with no internal flash, made from high-strength low-alloy steel. It is used in high-pressure systems and is comparable to seamless EN 10305-4, Grade E355 tubing in North America.\n",
      "\n",
      "- Grade F: Cold Drawn, Single Wall Welded Tubing, normalized, intended for higher pressure applications than equivalent sizes of SAE J525. It has higher carbon content, affecting its forming characteristics.\n"
     ]
    }
   ],
   "source": [
    "output = pipe(messages_MAT1130_1, **generation_args)\n",
    "print(output[0]['generated_text'])"
   ]
  },
  {
   "cell_type": "code",
   "execution_count": 14,
   "metadata": {},
   "outputs": [],
   "source": [
    "assistant_content2 = output[0]['generated_text']"
   ]
  },
  {
   "cell_type": "code",
   "execution_count": 15,
   "metadata": {},
   "outputs": [],
   "source": [
    "messages_MAT1130_2 = messages_MAT1130 = [\n",
    "    {\"role\": \"user\", \"content\": \"Can you provide a summary of the text within triple quotes '''\" + input_text + \"'''?\"},\n",
    "    {\"role\": \"assistant\", \"content\": assistant_content1},\n",
    "    {\"role\": \"user\", \"content\": \"What are main CNH material grades?\"},\n",
    "    {\"role\": \"assistant\", \"content\": assistant_content2},\n",
    "    {\"role\": \"user\", \"content\": \"What are the main specifications of each CNH material grade?\"},\n",
    "]"
   ]
  },
  {
   "cell_type": "code",
   "execution_count": 16,
   "metadata": {},
   "outputs": [
    {
     "name": "stdout",
     "output_type": "stream",
     "text": [
      " The main specifications for each CNH material grade are as follows:\n",
      "\n",
      "- **Grade A**: This is the highest quality tubing with cold drawn, single wall, welded construction, and no internal flash. It can handle high-pressure applications and is suitable for environments with high rates of vibration or surge loading.\n",
      "\n",
      "- **Grade B**: Similar to Grade A but with a controlled flash of up to 0.25 mm. It is not recommended for high-vibration or surge loading applications unless it has been tested and verified to be acceptable for such conditions.\n",
      "\n",
      "- **Grade BF**: This is also single wall, welded tubing, but with a controlled flash. It is less suitable for high-vibration or surge loading situations and requires careful review and approval for substitution due to its formability characteristics.\n",
      "\n",
      "- **Grade C**: Cold drawn, single wall, seamless tubing. It's more forgiving in terms of dimensional tolerances but is generally used for the same applications as Grade A.\n",
      "\n",
      "- **Grade D**: Brazed double wall tubing, commercially known as Bundy Tube, for high-pressure critical applications.\n",
      "\n",
      "- **Grade E**: Either cold drawn or welded, single wall seamless tubing. It is made from high-strength low-alloy steel for use in high-pressure systems and is comparable to seamless EN 10305-4, Grade E355 tubing.\n",
      "\n",
      "- **Grade F**: Cold drawn, single wall, welded tubing, normalized for higher pressure applications than equivalent SAE J525. It features higher carbon content which affects its forming characteristics.\n"
     ]
    }
   ],
   "source": [
    "output = pipe(messages_MAT1130_2, **generation_args)\n",
    "print(output[0]['generated_text'])"
   ]
  },
  {
   "cell_type": "code",
   "execution_count": 17,
   "metadata": {},
   "outputs": [],
   "source": [
    "assistant_content3 = output[0]['generated_text']"
   ]
  },
  {
   "cell_type": "code",
   "execution_count": 18,
   "metadata": {},
   "outputs": [],
   "source": [
    "messages_MAT1130_3 = messages_MAT1130 = [\n",
    "    {\"role\": \"user\", \"content\": \"Can you provide a summary of the text within triple quotes '''\" + input_text + \"'''?\"},\n",
    "    {\"role\": \"assistant\", \"content\": assistant_content1},\n",
    "    {\"role\": \"user\", \"content\": \"What are main CNH material grades?\"},\n",
    "    {\"role\": \"assistant\", \"content\": assistant_content2},\n",
    "    {\"role\": \"user\", \"content\": \"What are the main specifications of each CNH material grade?\"},\n",
    "    {\"role\": \"assistant\", \"content\": assistant_content3},\n",
    "    {\"role\": \"user\", \"content\": \"What is the elongation, tensile strength & yield strength of each CNH material grade?\"},\n",
    "]"
   ]
  },
  {
   "cell_type": "code",
   "execution_count": 19,
   "metadata": {},
   "outputs": [
    {
     "name": "stdout",
     "output_type": "stream",
     "text": [
      " The mechanical properties for each CNH material grade are as follows:\n",
      "\n",
      "- **Grade A**: Tensile Strength - ≥310 MPa (≥45,000 psi), Yield Strength - 170 MPa (24,700 psi), Minimum Elongation - 35%.\n",
      "\n",
      "- **Grade B**: Tensile Strength - ≥310 MPa (≥45,000 psi), Yield Strength - 170 MPa (24,700 psi), Minimum Elongation - 35%.\n",
      "\n",
      "- **Grade BF**: Tensile Strength - ≥290 MPa (≥42,000 psi), Yield Strength - 170 MPa (24,700 psi), Minimum Elongation - 14%.\n",
      "\n",
      "- **Grade C**: Tensile Strength - 2310 MPa (245,000 psi), Yield Strength - 170 MPa (24,700 psi), Minimum Elongation - 35%.\n",
      "\n",
      "- **Grade D**: Tensile Strength and Yield Strength are not specified in the provided text.\n",
      "\n",
      "- **Grade E**: Tensile Strength - ≥500 MPa (≥72,500 psi), Yield Strength - 275 MPa (39,900 psi), Minimum Elongation - 25% minimum.\n"
     ]
    }
   ],
   "source": [
    "output = pipe(messages_MAT1130_3, **generation_args)\n",
    "print(output[0]['generated_text'])"
   ]
  },
  {
   "cell_type": "code",
   "execution_count": null,
   "metadata": {},
   "outputs": [],
   "source": []
  }
 ],
 "metadata": {
  "kernelspec": {
   "display_name": "pi1_py311",
   "language": "python",
   "name": "python3"
  },
  "language_info": {
   "codemirror_mode": {
    "name": "ipython",
    "version": 3
   },
   "file_extension": ".py",
   "mimetype": "text/x-python",
   "name": "python",
   "nbconvert_exporter": "python",
   "pygments_lexer": "ipython3",
   "version": "3.11.9"
  }
 },
 "nbformat": 4,
 "nbformat_minor": 2
}
